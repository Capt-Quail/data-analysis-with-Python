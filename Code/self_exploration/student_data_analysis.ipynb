{
 "cells": [
  {
   "cell_type": "markdown",
   "id": "d133d09f",
   "metadata": {},
   "source": [
    "### Analysis of Student Data\n",
    "\n",
    "Examining student data to draw conclusion by testing hypothesis.  \n",
    "\n",
    "It would seem best to target exam score and answer the question, what variables affect test score the most? With an accurate model, we can predict our most likely test score based how those variables express."
   ]
  },
  {
   "cell_type": "markdown",
   "id": "ffd3f162",
   "metadata": {},
   "source": [
    "---  \n",
    "\n",
    "### **Data Wrangling**"
   ]
  },
  {
   "cell_type": "code",
   "execution_count": null,
   "id": "69b2db27",
   "metadata": {},
   "outputs": [],
   "source": [
    "from pathlib import Path\n",
    "import pandas as pd\n",
    "import numpy as np\n",
    "import matplotlib as plt\n",
    "import seaborn as sns\n",
    "from scipy import stats as sts\n",
    "\n",
    "df_data = Path().cwd().parent.parent/\"Data\"/\"student_habits_performance.csv\"\n",
    "student_df = pd.read_csv(df_data)"
   ]
  },
  {
   "cell_type": "code",
   "execution_count": null,
   "id": "92009b57",
   "metadata": {},
   "outputs": [],
   "source": [
    "print(student_df.describe(include='all'))\n",
    "\n",
    "student_df.head(5)"
   ]
  },
  {
   "cell_type": "markdown",
   "id": "36c549c2",
   "metadata": {},
   "source": [
    "Based on this small exploration alone, we can see we have multiple categorical variables alongside numerous numerical values, both float and int.  \n",
    "\n",
    "We also see some great cursory stats about our numerical data, giving us an idea of:  \n",
    "- Data scale and volume\n",
    "  - We have 1,000 values per column\n",
    "  - There is not a massive difference across all our values (min=0, max=100).\n",
    "- How that data is distributed across each feature.  \n",
    "\n",
    "Looking at `student_df[\"parental_education_level\"]`, we can also see there's missing data. To cnofirm that's the only column, let's run a for loop."
   ]
  },
  {
   "cell_type": "code",
   "execution_count": null,
   "id": "33709a40",
   "metadata": {},
   "outputs": [],
   "source": [
    "missing_data = student_df.isnull()\n",
    "\n",
    "for column in missing_data:\n",
    "    print(missing_data[column].value_counts())"
   ]
  },
  {
   "cell_type": "markdown",
   "id": "bc38a14f",
   "metadata": {},
   "source": [
    "Now, to get a closer look at the unique value counts of that feature.  "
   ]
  },
  {
   "cell_type": "code",
   "execution_count": null,
   "id": "3019576f",
   "metadata": {},
   "outputs": [],
   "source": [
    "parental_education_level_counts = student_df[\n",
    "    \"parental_education_level\"\n",
    "].value_counts(dropna=False).to_frame()\n",
    "parental_education_level_counts.columns = ['value_counts']\n",
    "parental_education_level_counts.index.name = \"parental_education_level\"\n",
    "\n",
    "print(parental_education_level_counts)"
   ]
  },
  {
   "cell_type": "markdown",
   "id": "113b0500",
   "metadata": {},
   "source": [
    "There are 91 missing values out of 1,000--that's 9.1% of our data set.  \n",
    "\n",
    "While perfectly fine to stop at replacing the missing values with  \n",
    "the frequency, it could be worth while to create a **binary  \n",
    "indicator column** for missing parental education to explore  \n",
    "relationship with student performance. "
   ]
  },
  {
   "cell_type": "code",
   "execution_count": null,
   "id": "de674aaa",
   "metadata": {},
   "outputs": [],
   "source": [
    "missing_ed_df = student_df[[\"parental_education_level\"]]\n",
    "missing_ed_df = missing_ed_df.rename(columns={\"parental_education_level\": \"missing_parent_ed\"})\n",
    "\n",
    "for ed_index in list(range(len(missing_ed_df))):\n",
    "    if pd.isnull(student_df.loc[ed_index, \"parental_education_level\"]):\n",
    "        missing_ed_df.loc[ed_index, \"missing_parent_ed\"] = 1\n",
    "    else:\n",
    "        missing_ed_df.loc[ed_index, \"missing_parent_ed\"] = 0\n",
    "\n",
    "print(missing_ed_df.value_counts())\n",
    "\n"
   ]
  },
  {
   "cell_type": "markdown",
   "id": "09456e29",
   "metadata": {},
   "source": [
    "This data is now preserved in a separate data frame I can  \n",
    "concatenate with the original, or a copy of the original,  \n",
    "when it's time to model.  \n",
    "\n",
    "Next, we'll replace those missing values."
   ]
  }
 ],
 "metadata": {
  "language_info": {
   "name": "python"
  }
 },
 "nbformat": 4,
 "nbformat_minor": 5
}
