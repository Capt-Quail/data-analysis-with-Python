{
 "cells": [
  {
   "cell_type": "markdown",
   "id": "d133d09f",
   "metadata": {},
   "source": [
    "### Analysis of Student Data\n",
    "\n",
    "Examining student data to draw conclusion by testing hypothesis.  \n",
    "\n",
    "It would seem best to target exam score and answer the question, what variables affect test score the most? With an accurate model, we can predict our most likely test score based how those variables express."
   ]
  },
  {
   "cell_type": "markdown",
   "id": "ffd3f162",
   "metadata": {},
   "source": [
    "---  \n",
    "\n",
    "### **Data Wrangling**"
   ]
  },
  {
   "cell_type": "code",
   "execution_count": null,
   "id": "69b2db27",
   "metadata": {},
   "outputs": [],
   "source": [
    "from pathlib import Path\n",
    "import pandas as pd\n",
    "import numpy as np\n",
    "import matplotlib as plt\n",
    "import seaborn as sns\n",
    "from scipy import stats as sts\n",
    "\n",
    "df_data = Path().cwd().parent.parent/\"Data\"/\"student_habits_performance.csv\"\n",
    "student_df = pd.read_csv(df_data)"
   ]
  },
  {
   "cell_type": "code",
   "execution_count": null,
   "id": "92009b57",
   "metadata": {},
   "outputs": [],
   "source": [
    "print(student_df.describe(include='all'))\n",
    "\n",
    "student_df.head(5)"
   ]
  },
  {
   "cell_type": "markdown",
   "id": "36c549c2",
   "metadata": {},
   "source": [
    "Based on this small exploration alone, we can see we have multiple categorical variables alongside numerous numerical values, both float and int.  \n",
    "\n",
    "We also see some great cursory stats about our numerical data, giving us an idea of:  \n",
    "- Data scale and volume\n",
    "  - We have 1,000 values per column\n",
    "  - There is not a massive difference across all our values (min=0, max=100).\n",
    "- How that data is distributed across each feature.  \n",
    "\n",
    "Looking at `student_df[\"parental_education_level\"]`, we can also see there's missing data. To cnofirm that's the only column, let's run a for loop."
   ]
  },
  {
   "cell_type": "code",
   "execution_count": null,
   "id": "33709a40",
   "metadata": {},
   "outputs": [],
   "source": [
    "missing_data = student_df.isnull()\n",
    "\n",
    "for column in missing_data:\n",
    "    print(missing_data[column].value_counts())"
   ]
  }
 ],
 "metadata": {
  "language_info": {
   "name": "python"
  }
 },
 "nbformat": 4,
 "nbformat_minor": 5
}
