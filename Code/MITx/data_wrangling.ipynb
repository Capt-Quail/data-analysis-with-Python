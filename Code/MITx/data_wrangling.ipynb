{
 "cells": [
  {
   "cell_type": "markdown",
   "id": "0",
   "metadata": {},
   "source": [
    "# Lab 2: Data Cleaning and Preparation\n",
    "In this notebook, we clean and prepare the automobile dataset. We'll explore the data, handle missing values, normalize and transform data, visualize distributions, and create dummy variables for categorical data."
   ]
  },
  {
   "cell_type": "markdown",
   "id": "1",
   "metadata": {},
   "source": [
    "## Import necessary libraries"
   ]
  },
  {
   "cell_type": "code",
   "execution_count": null,
   "id": "2",
   "metadata": {},
   "outputs": [],
   "source": [
    "from pathlib import Path\n",
    "import pandas as pd\n",
    "import numpy as np\n",
    "from matplotlib import pyplot as plt"
   ]
  },
  {
   "cell_type": "markdown",
   "id": "3",
   "metadata": {},
   "source": [
    "## Load dataset\n",
    "We load the dataset and assign headers manually since no headers are present in the file."
   ]
  },
  {
   "cell_type": "code",
   "execution_count": null,
   "id": "4",
   "metadata": {},
   "outputs": [],
   "source": [
    "filename = Path.cwd().parent.parent/\"Data\"/\"auto.csv\"\n",
    "headers = [\n",
    "    \"symboling\", \"normalized-losses\", \"make\", \"fuel-type\", \"aspiration\",\n",
    "    \"num-of-doors\", \"body-style\", \"drive-wheels\", \"engine-location\",\n",
    "    \"wheel-base\", \"length\", \"width\", \"height\", \"curb-weight\",\n",
    "    \"engine-type\", \"num-of-cylinders\", \"engine-size\", \"fuel-system\",\n",
    "    \"bore\", \"stroke\", \"compression-ratio\", \"horsepower\",\n",
    "    \"peak-rpm\", \"city-mpg\", \"highway-mpg\", \"price\"\n",
    "]\n",
    "df = pd.read_csv(filename, names=headers)\n",
    "df.head(5)"
   ]
  },
  {
   "cell_type": "markdown",
   "id": "5",
   "metadata": {},
   "source": [
    "## Replace '?' with NaN\n",
    "We replace '?' with `np.nan` so pandas can recognize missing values."
   ]
  },
  {
   "cell_type": "code",
   "execution_count": null,
   "id": "6",
   "metadata": {},
   "outputs": [],
   "source": [
    "df.replace(\"?\", np.nan, inplace=True)\n",
    "df.head(5)"
   ]
  },
  {
   "cell_type": "markdown",
   "id": "7",
   "metadata": {},
   "source": [
    "## Check for missing data"
   ]
  },
  {
   "cell_type": "code",
   "execution_count": null,
   "id": "8",
   "metadata": {},
   "outputs": [],
   "source": [
    "missing_data = df.isnull()\n",
    "missing_data.head(5)"
   ]
  },
  {
   "cell_type": "code",
   "execution_count": null,
   "id": "9",
   "metadata": {},
   "outputs": [],
   "source": [
    "for column in missing_data.columns.values.tolist():\n",
    "    print(f\"Missing in {column}:\")\n",
    "    print(missing_data[column].value_counts())\n",
    "    print(\"\")"
   ]
  },
  {
   "cell_type": "markdown",
   "id": "10",
   "metadata": {},
   "source": [
    "## Handle missing values"
   ]
  },
  {
   "cell_type": "code",
   "execution_count": null,
   "id": "11",
   "metadata": {},
   "outputs": [],
   "source": [
    "df[\"normalized-losses\"] = df[\"normalized-losses\"].astype(float)\n",
    "avg_norm_loss = df[\"normalized-losses\"].mean()\n",
    "print(f\"Average Normalized Loss: {avg_norm_loss}\")\n",
    "df[\"normalized-losses\"].replace(\n",
    "    np.nan, avg_norm_loss, inplace=True\n",
    ")\n",
    "\n",
    "df[\"bore\"] = df[\"bore\"].astype(float)\n",
    "avg_bore = df[\"bore\"].mean()\n",
    "print(f\"Average Bore: {avg_bore}\")\n",
    "df[\"bore\"].replace(np.nan, avg_bore, inplace=True)\n",
    "\n",
    "df[\"stroke\"] = df[\"stroke\"].astype(float)\n",
    "avg_stroke = df[\"stroke\"].mean()\n",
    "print(f\"Average Stroke: {avg_stroke}\")\n",
    "df[\"stroke\"].replace(np.nan, avg_stroke, inplace=True)\n",
    "\n",
    "df[\"horsepower\"] = df[\"horsepower\"].astype(float)\n",
    "avg_hp = df[\"horsepower\"].mean()\n",
    "print(f\"Average Horsepower: {avg_hp}\")\n",
    "df[\"horsepower\"].replace(np.nan, avg_hp, inplace=True)\n",
    "\n",
    "df[\"peak-rpm\"] = df[\"peak-rpm\"].astype(float)\n",
    "avg_rpm = df[\"peak-rpm\"].mean()\n",
    "print(f\"Average Peak RPM: {avg_rpm}\")\n",
    "df[\"peak-rpm\"].replace(np.nan, avg_rpm, inplace=True)\n",
    "\n",
    "most_common_doors = df[\"num-of-doors\"].value_counts().idxmax()\n",
    "print(f\"Most common number of doors: {most_common_doors}\")\n",
    "df[\"num-of-doors\"].replace(np.nan, most_common_doors, inplace=True)\n",
    "\n",
    "df.dropna(subset=[\"price\"], inplace=True)\n",
    "df.reset_index(drop=True, inplace=True)"
   ]
  },
  {
   "cell_type": "markdown",
   "id": "12",
   "metadata": {},
   "source": [
    "## Convert data types"
   ]
  },
  {
   "cell_type": "code",
   "execution_count": null,
   "id": "13",
   "metadata": {},
   "outputs": [],
   "source": [
    "df[[\"bore\", \"stroke\", \"peak-rpm\", \"price\"]] = df[[\n",
    "    \"bore\", \"stroke\", \"peak-rpm\", \"price\"\n",
    "]].astype(float)\n",
    "df[\"normalized-losses\"] = df[\"normalized-losses\"].astype(int)\n",
    "df[\"horsepower\"] = df[\"horsepower\"].astype(int)\n",
    "df.dtypes"
   ]
  },
  {
   "cell_type": "markdown",
   "id": "14",
   "metadata": {},
   "source": [
    "## Convert mpg and normalize dimensions"
   ]
  },
  {
   "cell_type": "code",
   "execution_count": null,
   "id": "15",
   "metadata": {},
   "outputs": [],
   "source": [
    "df[\"city-mpg\"] = 235 / df[\"city-mpg\"]\n",
    "df.rename(columns={\"city-mpg\": \"city-L/100km\"}, inplace=True)\n",
    "df[\"highway-mpg\"] = 235 / df[\"highway-mpg\"]\n",
    "df.rename(columns={\"highway-mpg\": \"highway-L/100km\"}, inplace=True)\n",
    "df[\"length\"] = df[\"length\"] / df[\"length\"].max()\n",
    "df[\"width\"] = df[\"width\"] / df[\"width\"].max()\n",
    "df[\"height\"] = df[\"height\"] / df[\"height\"].max()\n",
    "df.head()"
   ]
  },
  {
   "cell_type": "markdown",
   "id": "16",
   "metadata": {},
   "source": [
    "## Visualize horsepower distribution"
   ]
  },
  {
   "cell_type": "code",
   "execution_count": null,
   "id": "17",
   "metadata": {},
   "outputs": [],
   "source": [
    "plt.hist(df[\"horsepower\"], bins=3)\n",
    "plt.xlabel(\"horsepower\")\n",
    "plt.ylabel(\"count\")\n",
    "plt.title(\"Horsepower Distribution\")\n",
    "plt.show()"
   ]
  },
  {
   "cell_type": "markdown",
   "id": "18",
   "metadata": {},
   "source": [
    "## Bin horsepower into categories"
   ]
  },
  {
   "cell_type": "code",
   "execution_count": null,
   "id": "19",
   "metadata": {},
   "outputs": [],
   "source": [
    "bins = np.linspace(\n",
    "    df[\"horsepower\"].min(), df[\"horsepower\"].max(), 4\n",
    ")\n",
    "group_names = [\"Low\", \"Medium\", \"High\"]\n",
    "df[\"horsepower-binned\"] = pd.cut(\n",
    "    df[\"horsepower\"], bins, labels=group_names, include_lowest=True\n",
    ")\n",
    "df[[\"horsepower\", \"horsepower-binned\"]].head(10)"
   ]
  },
  {
   "cell_type": "code",
   "execution_count": null,
   "id": "20",
   "metadata": {},
   "outputs": [],
   "source": [
    "df[\"horsepower-binned\"].value_counts().sort_index()"
   ]
  },
  {
   "cell_type": "code",
   "execution_count": null,
   "id": "21",
   "metadata": {},
   "outputs": [],
   "source": [
    "df[\"horsepower-binned\"].value_counts().sort_index().plot(\n",
    "    kind=\"bar\"\n",
    ")\n",
    "plt.xlabel(\"Horsepower Bins\")\n",
    "plt.ylabel(\"Count\")\n",
    "plt.title(\"Horsepower Binned Distribution\")\n",
    "plt.show()"
   ]
  },
  {
   "cell_type": "markdown",
   "id": "22",
   "metadata": {},
   "source": [
    "## Create dummy variables"
   ]
  },
  {
   "cell_type": "code",
   "execution_count": null,
   "id": "23",
   "metadata": {},
   "outputs": [],
   "source": [
    "fuel_dummies = pd.get_dummies(\n",
    "    df[\"fuel-type\"]\n",
    ").rename(columns={\n",
    "    \"diesel\": \"fuel-type-diesel\",\n",
    "    \"gas\": \"fuel-type-gas\"\n",
    "})\n",
    "df = pd.concat([df, fuel_dummies], axis=1)\n",
    "df.drop(\"fuel-type\", axis=1, inplace=True)\n",
    "\n",
    "aspiration_dummies = pd.get_dummies(\n",
    "    df[\"aspiration\"]\n",
    ").rename(columns={\n",
    "    \"std\": \"aspiration-std\",\n",
    "    \"turbo\": \"aspiration-turbo\"\n",
    "})\n",
    "df = pd.concat([df, aspiration_dummies], axis=1)\n",
    "df.drop(\"aspiration\", axis=1, inplace=True)\n",
    "df.head()"
   ]
  },
  {
   "cell_type": "markdown",
   "id": "24",
   "metadata": {},
   "source": [
    "## Save cleaned dataset"
   ]
  },
  {
   "cell_type": "code",
   "execution_count": null,
   "id": "25",
   "metadata": {},
   "outputs": [],
   "source": [
    "output_path = (\n",
    "    Path.cwd().parent.parent\n",
    "    /\"Data\"\n",
    "    /\"Clean_Data\"\n",
    "    /\"clean_auto_df.csv\"\n",
    ")\n",
    "df.to_csv(output_path, index=False)\n",
    "output_path"
   ]
  }
 ],
 "metadata": {
  "kernelspec": {
   "display_name": "Python 3",
   "language": "python",
   "name": "python3"
  },
  "language_info": {
   "codemirror_mode": {
    "name": "ipython",
    "version": 3
   },
   "file_extension": ".py",
   "mimetype": "text/x-python",
   "name": "python",
   "nbconvert_exporter": "python",
   "pygments_lexer": "ipython3",
   "version": "3.12.9"
  }
 },
 "nbformat": 4,
 "nbformat_minor": 5
}
