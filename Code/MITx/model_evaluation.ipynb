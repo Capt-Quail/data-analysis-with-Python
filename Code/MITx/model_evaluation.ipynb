{
 "cells": [
  {
   "cell_type": "markdown",
   "id": "ca5763af",
   "metadata": {},
   "source": [
    "### **Model Evaluation and Refinement**  \n",
    "\n",
    "In the following sections we'll learn:  \n",
    "- Model evaluation  \n",
    "- Over-fitting, underfitting, and model selection  \n",
    "- Ridge regression  \n",
    "- Grid search  "
   ]
  }
 ],
 "metadata": {
  "language_info": {
   "name": "python"
  }
 },
 "nbformat": 4,
 "nbformat_minor": 5
}
