{
 "cells": [
  {
   "cell_type": "markdown",
   "id": "0",
   "metadata": {},
   "source": [
    "### Model Development\n",
    "\n",
    "Developing models means dealing with:  \n",
    "1. Simple and multiple linear regression\n",
    "2. Model evaluation using visualization\n",
    "3. Polynomial regression and pipelines\n",
    "4. R-squared and MSE for in-sample evaluation\n",
    "5. Prediction and decision making  \n",
    "\n",
    "Ultimately, you can answer decisive questions like, \"how can you deetermine  \n",
    "a fair value for a used car?\"  \n",
    "\n",
    "A model can be thought of as a mathematical equation used to predict a value  \n",
    "given one or more other values. They relate **one or more independent variable  \n",
    "to dependent variables**.  \n",
    "\n",
    "Usually the more **relevant data** you have, the more accurate your model is.  \n",
    "For example:  \n",
    "\n",
    "  - You enter the following to your model:  \n",
    "      - `highway-mpg`  \n",
    "      - `curb-weight`  \n",
    "      - `engine-size`  \n",
    "\n",
    "And you should receive an accurate prediction for `price`.  \n",
    "\n",
    "---"
   ]
  },
  {
   "cell_type": "markdown",
   "id": "1",
   "metadata": {},
   "source": [
    "### Linear and Multiple Linear Regression  \n",
    "\n",
    "**Linear regression** will refer to one independent variable, while  \n",
    "**multiple linear regression** refers to multiple independent variables to  \n",
    "make a prediction.\n",
    "\n",
    "### Simple Linear Regression  \n",
    "\n",
    "In simple linear regression you have the following:  \n",
    "  - The *predictor* (independent) variable - **X**  \n",
    "  - The *target* (dependent) variable - **Y**  \n",
    "    - We would like to come up with a linear relationship expressed as the \n",
    "      following:  \n",
    "      $y = b_0 + b_1 x$\n",
    "  - $b_0$: the **intercept**  \n",
    "  - $b_1$: the **slope**  \n",
    "\n",
    "To determine the slope and intercept requires heavy calculations--that can  \n",
    "luckily be abstracted by Python (love this language). But, it's important  \n",
    "to understand what is happening. For this example, we'll consider  \n",
    "`auto_df[\"mpg\"]` our *predictor* and `auto_df[\"price\"]` our target *variable*.  \n",
    "\n",
    "At this point in our modeling, we'll primarily use `LinearRegression` from  \n",
    "the `linear_model` module in the `sklearn` (scikit-learn) library:  \n",
    "\n",
    "  - We'll start by using it to create a LinearRegression object--our model.  \n",
    "  - Assign independent varible(s) (X) and dependent variable (Y), then using  \n",
    "    `fit()` to determine intercept ($b_0$) and slope ($b_1$):  \n",
    "\n",
    "$$\n",
    "\\text{slope} = \\frac{\\sum (x_i - \\bar{x})(y_i - \\bar{y})}{\\sum (x_i - \\bar{x})^2}\n",
    "$$\n",
    "\n",
    "$$\n",
    "\\text{intercept} = \\bar{y} - \\text{slope} \\cdot \\bar{x}\n",
    "$$  \n",
    "\n",
    "  - There is no prediction without fitting your data.  \n",
    "  - Finally, using `predict()` to determine a prediction (returning an array  \n",
    "    the same shape as the input).  "
   ]
  },
  {
   "cell_type": "code",
   "execution_count": null,
   "id": "2",
   "metadata": {},
   "outputs": [],
   "source": [
    "from pathlib import Path\n",
    "import pandas as pd\n",
    "import numpy as np\n",
    "from matplotlib import pyplot as plt\n",
    "import seaborn as sns\n",
    "from scipy import stats as sts\n",
    "from sklearn.linear_model import LinearRegression\n",
    "\n",
    "df_data = Path().cwd().parent.parent/\"Data\"/\"Clean_Data\"/\"clean_auto_df.csv\"\n",
    "auto_df = pd.read_csv(df_data)"
   ]
  },
  {
   "cell_type": "code",
   "execution_count": null,
   "id": "3",
   "metadata": {},
   "outputs": [],
   "source": [
    "lm = LinearRegression()\n",
    "\n",
    "# X must always be a 2D object\n",
    "X = auto_df[[\"highway-L/100km\"]]\n",
    "Y = auto_df[\"price\"]\n",
    "lm.fit(X, Y)\n",
    "\n",
    "b_int = lm.intercept_\n",
    "b_slope = lm.coef_[0]\n",
    "print(b_int)\n",
    "print(b_slope)\n",
    "\n",
    "# Again, X must always be 2D\n",
    "lm.predict([[10]])"
   ]
  }
 ],
 "metadata": {
  "kernelspec": {
   "display_name": "Python 3",
   "language": "python",
   "name": "python3"
  },
  "language_info": {
   "codemirror_mode": {
    "name": "ipython",
    "version": 3
   },
   "file_extension": ".py",
   "mimetype": "text/x-python",
   "name": "python",
   "nbconvert_exporter": "python",
   "pygments_lexer": "ipython3",
   "version": "3.12.9"
  }
 },
 "nbformat": 4,
 "nbformat_minor": 5
}
