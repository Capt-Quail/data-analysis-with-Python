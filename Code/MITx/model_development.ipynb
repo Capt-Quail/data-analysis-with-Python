{
 "cells": [
  {
   "cell_type": "markdown",
   "id": "1f4a1465",
   "metadata": {},
   "source": [
    "### Model Development\n",
    "\n",
    "Developing models means dealing with:  \n",
    "1. Simple and multiple linear regression\n",
    "2. Model evaluation using visualization\n",
    "3. Polynomial regression and pipelines\n",
    "4. R-squared and MSE for in-sample evaluation\n",
    "5. Prediction and decision making  \n",
    "\n",
    "Ultimately, you can answer decisive questions like, \"how can you deetermine  \n",
    "a fair value for a used car?\"  \n",
    "\n",
    "A model can be thought of as a mathematical equation used to predict a value  \n",
    "given one or more other values. They relate **one or more independent variable  \n",
    "to dependent variables**.  \n",
    "\n",
    "Usually the more **relevant data** you have, the more accurate your model is.  \n",
    "For example:  \n",
    "\n",
    "  - You enter the following to your model:  \n",
    "      - `highway-mpg`  \n",
    "      - `curb-weight`  \n",
    "      - `engine-size`  \n",
    "\n",
    "And you should receive an accurate prediction for `price`.  \n",
    "\n",
    "---"
   ]
  }
 ],
 "metadata": {
  "language_info": {
   "name": "python"
  }
 },
 "nbformat": 4,
 "nbformat_minor": 5
}
